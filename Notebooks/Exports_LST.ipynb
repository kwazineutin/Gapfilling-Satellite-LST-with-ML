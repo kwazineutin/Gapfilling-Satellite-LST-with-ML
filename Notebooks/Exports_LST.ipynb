{
 "cells": [
  {
   "cell_type": "code",
   "execution_count": 1,
   "metadata": {},
   "outputs": [],
   "source": [
    "import geopandas as gpd\n",
    "import pandas as pd\n",
    "import numpy as np\n",
    "from geocube.api.core import make_geocube\n",
    "from datetime import datetime, date, timedelta \n",
    "from shapely import wkt\n",
    "import warnings\n",
    "warnings.filterwarnings('ignore')"
   ]
  },
  {
   "cell_type": "code",
   "execution_count": 2,
   "metadata": {},
   "outputs": [],
   "source": [
    "\n",
    "#open csvs exported from modelling and predicting phase ref: Land Surface-RF Modelling.ipynb\n",
    "comp_10 = pd.read_csv('../Tables/complete_2010.csv')\n",
    "\n",
    "comp_14 = pd.read_csv('../Tables/complete_2014.csv')\n",
    "\n",
    "comp_18 = pd.read_csv('../Tables/complete_2018.csv')\n",
    "\n",
    "#estonian 1km pop grid\n",
    "grids = gpd.read_file('../grid_elev_etak/GRD1000_2017.shp')\n",
    "\n",
    "ext= '.tif' #extension for images"
   ]
  },
  {
   "cell_type": "code",
   "execution_count": 3,
   "metadata": {},
   "outputs": [
    {
     "name": "stdout",
     "output_type": "stream",
     "text": [
      "Index(['GRD_INSPIR', 'ndvi', 'lst', 'WATER', 'ROADS', 'URBAN_GREENERY',\n",
      "       'OTHER', 'BUILT_UP_COMMERCIAL_USE', 'EXTRACTION_SITES',\n",
      "       'OPEN_SPACE_COMMERCIAL', 'CROPLAND', 'AGRICULTURAL_LAND',\n",
      "       'NATURAL_VEGETATION', 'OPEN_SPACE_MIXED_USE', 'FOREST', 'WETLANDS',\n",
      "       'BUILT_UP_MIXED_USE', 'BUILT_UP_AGRICULTURE', 'elevation', 'dist_coast',\n",
      "       'x', 'y', 'doy', 'year', 'building surface', 'impervious surface',\n",
      "       'pervious surface', 'BUILT_UP'],\n",
      "      dtype='object')\n",
      "Index(['GRD_INSPIR', 'area', 'NEAR_FID', 'NEAR_DIST', 'geometry'], dtype='object')\n"
     ]
    }
   ],
   "source": [
    "print(comp_10.columns)\n",
    "\n",
    "print(grids.columns)"
   ]
  },
  {
   "cell_type": "code",
   "execution_count": 4,
   "metadata": {},
   "outputs": [],
   "source": [
    "out_folder = '../Outputs/filled_lst_2010/'\n",
    "\n",
    "days = np.sort(comp_10['doy'].unique()) #get the list of days\n",
    "\n",
    "# Initializing start date \n",
    "strt_date = date(int('2010'), 1, 1) \n",
    "\n",
    "grps_10 = comp_10.groupby('doy')\n",
    "\n",
    "for day in days:\n",
    "    \n",
    "    \n",
    "    date = (strt_date + timedelta(days=int(day) - 1)).strftime(\"%Y-%m-%d\") \n",
    "\n",
    "    out = out_folder+date+ext#out_folder+str('DOY')\n",
    "    \n",
    "    day_grp = grps_10.get_group(day)\n",
    "    \n",
    "    day_grp = day_grp[['GRD_INSPIR', 'ndvi', 'lst']].merge(grids[['GRD_INSPIR','geometry']],on='GRD_INSPIR')\n",
    "    \n",
    "    \n",
    "    #day_grp['geometry'] = day_grp['geometry'].apply(wkt.loads)\n",
    "       \n",
    "    gdf = gpd.GeoDataFrame(day_grp,geometry='geometry',crs={'init': 'epsg:3301'})#\n",
    "    \n",
    "    #gdf.crs = \"EPSG:3301\"\n",
    "    \n",
    "    \n",
    "    cube = make_geocube(vector_data=gdf, resolution=(1000,1000))\n",
    "    \n",
    "    \n",
    "    \n",
    "    cube.lst.rio.to_raster(out)\n",
    "    "
   ]
  },
  {
   "cell_type": "code",
   "execution_count": 6,
   "metadata": {},
   "outputs": [],
   "source": [
    "from datetime import datetime, date, timedelta \n",
    "out_folder = '../Outputs/filled_lst_2014/'\n",
    "\n",
    "days = np.sort(comp_14['doy'].unique()) #get the list of days\n",
    "\n",
    "# Initializing start date \n",
    "strt_date = date(int('2014'), 1, 1) \n",
    "\n",
    "grps_14 = comp_14.groupby('doy')\n",
    "\n",
    "for day in days:\n",
    "    \n",
    "    \n",
    "    date = (strt_date + timedelta(days=int(day) - 1)).strftime(\"%Y-%m-%d\") \n",
    "\n",
    "    out = out_folder+date+ext#out_folder+str('DOY')\n",
    "    \n",
    "    day_grp = grps_14.get_group(day)\n",
    "    \n",
    "    day_grp = day_grp[['GRD_INSPIR', 'ndvi', 'lst']].merge(grids[['GRD_INSPIR','geometry']],on='GRD_INSPIR')\n",
    "    \n",
    "       \n",
    "    gdf = gpd.GeoDataFrame(day_grp,geometry='geometry',crs={'init': 'epsg:3301'})#\n",
    "    \n",
    "    #gdf.crs = \"EPSG:3301\"\n",
    "    \n",
    "    \n",
    "    cube = make_geocube(vector_data=gdf, resolution=(1000,1000))\n",
    "    \n",
    "    \n",
    "    \n",
    "    cube.lst.rio.to_raster(out)\n",
    "    \n",
    "    "
   ]
  },
  {
   "cell_type": "code",
   "execution_count": 7,
   "metadata": {},
   "outputs": [],
   "source": [
    "from datetime import datetime, date, timedelta \n",
    "out_folder = '../Outputs/filled_lst_2018/'\n",
    "\n",
    "days = np.sort(comp_18['doy'].unique()) #get the list of days\n",
    "\n",
    "# Initializing start date \n",
    "strt_date = date(int('2018'), 1, 1) \n",
    "\n",
    "grps_18 = comp_18.groupby('doy')\n",
    "\n",
    "for day in days:\n",
    "    \n",
    "    \n",
    "    date = (strt_date + timedelta(days=int(day) - 1)).strftime(\"%Y-%m-%d\") \n",
    "\n",
    "    out = out_folder+date+ext#out_folder+str('DOY')\n",
    "    \n",
    "    day_grp = grps_18.get_group(day)\n",
    "    \n",
    "    day_grp = day_grp[['GRD_INSPIR', 'ndvi', 'lst']].merge(grids[['GRD_INSPIR','geometry']],on='GRD_INSPIR')\n",
    "    \n",
    "       \n",
    "    gdf = gpd.GeoDataFrame(day_grp,geometry='geometry',crs={'init': 'epsg:3301'})#\n",
    "    \n",
    "    #gdf.crs = \"EPSG:3301\"\n",
    "    \n",
    "    \n",
    "    cube = make_geocube(vector_data=gdf, resolution=(1000,1000))\n",
    "    \n",
    "    \n",
    "    \n",
    "    cube.lst.rio.to_raster(out)\n",
    "    "
   ]
  },
  {
   "cell_type": "code",
   "execution_count": null,
   "metadata": {},
   "outputs": [],
   "source": []
  }
 ],
 "metadata": {
  "kernelspec": {
   "display_name": "Python 3",
   "language": "python",
   "name": "python3"
  },
  "language_info": {
   "codemirror_mode": {
    "name": "ipython",
    "version": 3
   },
   "file_extension": ".py",
   "mimetype": "text/x-python",
   "name": "python",
   "nbconvert_exporter": "python",
   "pygments_lexer": "ipython3",
   "version": "3.9.2"
  }
 },
 "nbformat": 4,
 "nbformat_minor": 4
}
